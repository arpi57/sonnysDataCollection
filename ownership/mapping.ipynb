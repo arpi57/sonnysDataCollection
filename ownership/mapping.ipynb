{
 "cells": [
  {
   "cell_type": "code",
   "execution_count": 1,
   "id": "570122cf",
   "metadata": {},
   "outputs": [],
   "source": [
    "import pandas as pd"
   ]
  },
  {
   "cell_type": "code",
   "execution_count": 9,
   "id": "dbd2fb9b",
   "metadata": {},
   "outputs": [],
   "source": [
    "df = pd.read_csv(\"ownership.csv\")"
   ]
  },
  {
   "cell_type": "code",
   "execution_count": 10,
   "id": "bcb95017",
   "metadata": {},
   "outputs": [
    {
     "data": {
      "application/vnd.microsoft.datawrangler.viewer.v0+json": {
       "columns": [
        {
         "name": "index",
         "rawType": "int64",
         "type": "integer"
        },
        {
         "name": "Company Name",
         "rawType": "object",
         "type": "unknown"
        },
        {
         "name": "Car wash name",
         "rawType": "object",
         "type": "string"
        }
       ],
       "ref": "cc1c2643-28de-4db8-b0f2-591a92e621cc",
       "rows": [
        [
         "0",
         "Whistle Express Car Wash",
         "#26 WEISS GUYS EXPRESS"
        ],
        [
         "1",
         "Mister Car Wash",
         "#27 WEISS GUYS EXPRESS"
        ],
        [
         "2",
         "Tidal Wave Auto Spa",
         "#28 WEISS GUYS EXPRESS"
        ],
        [
         "3",
         "ZIPS Car Wash",
         "*** StoneWash *** Car Care Center"
        ],
        [
         "4",
         "Quick Quack Express Car Wash",
         "1287 DEER PARK CAR WASH"
        ],
        [
         "5",
         "Club Car Wash",
         "330 S. Broadway Lawrence"
        ],
        [
         "6",
         "Tommy�s Express Car Wash",
         "360 Car Wash"
        ],
        [
         "7",
         "Spotless Brands",
         "4th u0026 Douglas"
        ],
        [
         "8",
         "GO Car Wash",
         "A-KEY CAR WASH"
        ],
        [
         "9",
         "Mammoth Holdings LLC",
         "AGGIELAND EXPRESS #2"
        ],
        [
         "10",
         "WhiteWater Express Car Wash",
         "AGGIELAND EXPRESS"
        ],
        [
         "11",
         "ModWash",
         "ALL STAR CAR WASH"
        ],
        [
         "12",
         "Express Wash Concepts",
         "ALOHA CAR WASH"
        ],
        [
         "13",
         "Super Star Car Wash",
         "AMERICAN CAR WASH"
        ],
        [
         "14",
         "Autobell Car Wash",
         "AUTO WASH EXPRESS"
        ],
        [
         "15",
         "LUV Car Wash",
         "Abercorn"
        ],
        [
         "16",
         "Summit Wash Holdings",
         "Adore Car Wash"
        ],
        [
         "17",
         "True Blue Car Wash",
         "Alabaster Wash and Wax"
        ],
        [
         "18",
         "Splash Car Wash",
         "Aladdin Car Wash"
        ],
        [
         "19",
         "Caliber Car Wash",
         "Alameda"
        ],
        [
         "20",
         "BlueWave Express Car Wash",
         "Alamosa"
        ],
        [
         "21",
         "El Car Wash",
         "All American Big Spring"
        ],
        [
         "22",
         "Splash in ECO Car Wash",
         "All American Boerne"
        ],
        [
         "23",
         "Golden Nozzle Car Wash",
         "All American Bulverde"
        ],
        [
         "24",
         "Champion Xpress Carwash",
         "All American Car Wash"
        ],
        [
         "25",
         "Crew Carwash",
         "All American Dezavala"
        ],
        [
         "26",
         "Sam's Xpress Car Wash",
         "All American Kitty Hawk"
        ],
        [
         "27",
         "Jax Kar Wash",
         "All American Ou0027Connor"
        ],
        [
         "28",
         "Terrible Herbst",
         "All American Vance Jackson"
        ],
        [
         "29",
         "Big Dan's Car Wash",
         "All Washed Up Canonsburg"
        ],
        [
         "30",
         "Mr. Clean Car Wash",
         "All Washed Up Dubois"
        ],
        [
         "31",
         "Raceway Express Car Wash",
         "All Washed Up Harmar"
        ],
        [
         "32",
         "Sparkling Image Car Wash",
         "All Washed Up Johnstown"
        ],
        [
         "33",
         "Wash N' Roll",
         "All Washed Up Munhall"
        ],
        [
         "34",
         "Rich's Car Wash",
         "All Washed Up Uniontown"
        ],
        [
         "35",
         "Mike's Car Wash",
         "Aloha Car Wash Bothell"
        ],
        [
         "36",
         "Surf Thru Express Car Wash",
         "Aloha Car Wash Woodinville"
        ],
        [
         "37",
         "Watershed Carwash",
         "Alpine Express"
        ],
        [
         "38",
         "WetGo Car Wash",
         "Alpine Wash"
        ],
        [
         "39",
         "Delta Sonic",
         "Alton Town Center"
        ],
        [
         "40",
         "The Wash Tub",
         "Amaranth"
        ],
        [
         "41",
         "Gas N Wash",
         "American Pride Garner"
        ],
        [
         "42",
         "Hurricane Express Wash",
         "American Pride Glenwood"
        ],
        [
         "43",
         "Brown Bear Car Wash",
         "American Pride Newbern"
        ],
        [
         "44",
         "Waterway Carwash",
         "American Pride Six Forks"
        ],
        [
         "45",
         "Hoffman Car Wash",
         "American Pride Smithfield"
        ],
        [
         "46",
         "Quick N Clean",
         "Annau0027s Car Wash"
        ],
        [
         "47",
         "ClearWater Express Wash",
         "Apple Wu0026L"
        ],
        [
         "48",
         "Thoroughbred Express Auto Wash",
         "Aqua Blue"
        ],
        [
         "49",
         "Trademark Car Wash",
         "Aqua Blue Duluth"
        ]
       ],
       "shape": {
        "columns": 2,
        "rows": 1477
       }
      },
      "text/html": [
       "<div>\n",
       "<style scoped>\n",
       "    .dataframe tbody tr th:only-of-type {\n",
       "        vertical-align: middle;\n",
       "    }\n",
       "\n",
       "    .dataframe tbody tr th {\n",
       "        vertical-align: top;\n",
       "    }\n",
       "\n",
       "    .dataframe thead th {\n",
       "        text-align: right;\n",
       "    }\n",
       "</style>\n",
       "<table border=\"1\" class=\"dataframe\">\n",
       "  <thead>\n",
       "    <tr style=\"text-align: right;\">\n",
       "      <th></th>\n",
       "      <th>Company Name</th>\n",
       "      <th>Car wash name</th>\n",
       "    </tr>\n",
       "  </thead>\n",
       "  <tbody>\n",
       "    <tr>\n",
       "      <th>0</th>\n",
       "      <td>Whistle Express Car Wash</td>\n",
       "      <td>#26 WEISS GUYS EXPRESS</td>\n",
       "    </tr>\n",
       "    <tr>\n",
       "      <th>1</th>\n",
       "      <td>Mister Car Wash</td>\n",
       "      <td>#27 WEISS GUYS EXPRESS</td>\n",
       "    </tr>\n",
       "    <tr>\n",
       "      <th>2</th>\n",
       "      <td>Tidal Wave Auto Spa</td>\n",
       "      <td>#28 WEISS GUYS EXPRESS</td>\n",
       "    </tr>\n",
       "    <tr>\n",
       "      <th>3</th>\n",
       "      <td>ZIPS Car Wash</td>\n",
       "      <td>*** StoneWash *** Car Care Center</td>\n",
       "    </tr>\n",
       "    <tr>\n",
       "      <th>4</th>\n",
       "      <td>Quick Quack Express Car Wash</td>\n",
       "      <td>1287 DEER PARK CAR WASH</td>\n",
       "    </tr>\n",
       "    <tr>\n",
       "      <th>...</th>\n",
       "      <td>...</td>\n",
       "      <td>...</td>\n",
       "    </tr>\n",
       "    <tr>\n",
       "      <th>1472</th>\n",
       "      <td>NaN</td>\n",
       "      <td>Youngstown (Mahoning Ave)</td>\n",
       "    </tr>\n",
       "    <tr>\n",
       "      <th>1473</th>\n",
       "      <td>NaN</td>\n",
       "      <td>Zips Car Wash</td>\n",
       "    </tr>\n",
       "    <tr>\n",
       "      <th>1474</th>\n",
       "      <td>NaN</td>\n",
       "      <td>Zips Car Wash</td>\n",
       "    </tr>\n",
       "    <tr>\n",
       "      <th>1475</th>\n",
       "      <td>NaN</td>\n",
       "      <td>Zips Express Car Wash</td>\n",
       "    </tr>\n",
       "    <tr>\n",
       "      <th>1476</th>\n",
       "      <td>NaN</td>\n",
       "      <td>Zoom Car Wash</td>\n",
       "    </tr>\n",
       "  </tbody>\n",
       "</table>\n",
       "<p>1477 rows × 2 columns</p>\n",
       "</div>"
      ],
      "text/plain": [
       "                      Company Name                      Car wash name\n",
       "0         Whistle Express Car Wash             #26 WEISS GUYS EXPRESS\n",
       "1                  Mister Car Wash             #27 WEISS GUYS EXPRESS\n",
       "2              Tidal Wave Auto Spa             #28 WEISS GUYS EXPRESS\n",
       "3                    ZIPS Car Wash  *** StoneWash *** Car Care Center\n",
       "4     Quick Quack Express Car Wash            1287 DEER PARK CAR WASH\n",
       "...                            ...                                ...\n",
       "1472                           NaN          Youngstown (Mahoning Ave)\n",
       "1473                           NaN                      Zips Car Wash\n",
       "1474                           NaN                      Zips Car Wash\n",
       "1475                           NaN              Zips Express Car Wash\n",
       "1476                           NaN                      Zoom Car Wash\n",
       "\n",
       "[1477 rows x 2 columns]"
      ]
     },
     "execution_count": 10,
     "metadata": {},
     "output_type": "execute_result"
    }
   ],
   "source": [
    "df"
   ]
  },
  {
   "cell_type": "code",
   "execution_count": 11,
   "id": "fd702db3",
   "metadata": {},
   "outputs": [
    {
     "data": {
      "application/vnd.microsoft.datawrangler.viewer.v0+json": {
       "columns": [
        {
         "name": "index",
         "rawType": "int64",
         "type": "integer"
        },
        {
         "name": "Company Name",
         "rawType": "object",
         "type": "string"
        },
        {
         "name": "Car wash name",
         "rawType": "object",
         "type": "string"
        },
        {
         "name": "matches",
         "rawType": "int64",
         "type": "integer"
        }
       ],
       "ref": "195ee26d-b2c2-46f4-9e0c-a0bbd047965d",
       "rows": [
        [
         "0",
         "Whistle Express Car Wash",
         "#26 WEISS GUYS EXPRESS",
         "0"
        ],
        [
         "1",
         "Mister Car Wash",
         "#27 WEISS GUYS EXPRESS",
         "0"
        ],
        [
         "2",
         "Tidal Wave Auto Spa",
         "#28 WEISS GUYS EXPRESS",
         "0"
        ],
        [
         "3",
         "ZIPS Car Wash",
         "*** StoneWash *** Car Care Center",
         "0"
        ],
        [
         "4",
         "Quick Quack Express Car Wash",
         "1287 DEER PARK CAR WASH",
         "0"
        ],
        [
         "5",
         "Club Car Wash",
         "330 S. Broadway Lawrence",
         "0"
        ],
        [
         "6",
         "Tommy�s Express Car Wash",
         "360 Car Wash",
         "0"
        ],
        [
         "7",
         "Spotless Brands",
         "4th u0026 Douglas",
         "0"
        ],
        [
         "8",
         "GO Car Wash",
         "A-KEY CAR WASH",
         "0"
        ],
        [
         "9",
         "Mammoth Holdings LLC",
         "AGGIELAND EXPRESS #2",
         "0"
        ],
        [
         "10",
         "WhiteWater Express Car Wash",
         "AGGIELAND EXPRESS",
         "0"
        ],
        [
         "11",
         "ModWash",
         "ALL STAR CAR WASH",
         "0"
        ],
        [
         "12",
         "Express Wash Concepts",
         "ALOHA CAR WASH",
         "0"
        ],
        [
         "13",
         "Super Star Car Wash",
         "AMERICAN CAR WASH",
         "0"
        ],
        [
         "14",
         "Autobell Car Wash",
         "AUTO WASH EXPRESS",
         "0"
        ],
        [
         "15",
         "LUV Car Wash",
         "Abercorn",
         "0"
        ],
        [
         "16",
         "Summit Wash Holdings",
         "Adore Car Wash",
         "0"
        ],
        [
         "17",
         "True Blue Car Wash",
         "Alabaster Wash and Wax",
         "0"
        ],
        [
         "18",
         "Splash Car Wash",
         "Aladdin Car Wash",
         "0"
        ],
        [
         "19",
         "Caliber Car Wash",
         "Alameda",
         "0"
        ]
       ],
       "shape": {
        "columns": 3,
        "rows": 20
       }
      },
      "text/html": [
       "<div>\n",
       "<style scoped>\n",
       "    .dataframe tbody tr th:only-of-type {\n",
       "        vertical-align: middle;\n",
       "    }\n",
       "\n",
       "    .dataframe tbody tr th {\n",
       "        vertical-align: top;\n",
       "    }\n",
       "\n",
       "    .dataframe thead th {\n",
       "        text-align: right;\n",
       "    }\n",
       "</style>\n",
       "<table border=\"1\" class=\"dataframe\">\n",
       "  <thead>\n",
       "    <tr style=\"text-align: right;\">\n",
       "      <th></th>\n",
       "      <th>Company Name</th>\n",
       "      <th>Car wash name</th>\n",
       "      <th>matches</th>\n",
       "    </tr>\n",
       "  </thead>\n",
       "  <tbody>\n",
       "    <tr>\n",
       "      <th>0</th>\n",
       "      <td>Whistle Express Car Wash</td>\n",
       "      <td>#26 WEISS GUYS EXPRESS</td>\n",
       "      <td>0</td>\n",
       "    </tr>\n",
       "    <tr>\n",
       "      <th>1</th>\n",
       "      <td>Mister Car Wash</td>\n",
       "      <td>#27 WEISS GUYS EXPRESS</td>\n",
       "      <td>0</td>\n",
       "    </tr>\n",
       "    <tr>\n",
       "      <th>2</th>\n",
       "      <td>Tidal Wave Auto Spa</td>\n",
       "      <td>#28 WEISS GUYS EXPRESS</td>\n",
       "      <td>0</td>\n",
       "    </tr>\n",
       "    <tr>\n",
       "      <th>3</th>\n",
       "      <td>ZIPS Car Wash</td>\n",
       "      <td>*** StoneWash *** Car Care Center</td>\n",
       "      <td>0</td>\n",
       "    </tr>\n",
       "    <tr>\n",
       "      <th>4</th>\n",
       "      <td>Quick Quack Express Car Wash</td>\n",
       "      <td>1287 DEER PARK CAR WASH</td>\n",
       "      <td>0</td>\n",
       "    </tr>\n",
       "    <tr>\n",
       "      <th>5</th>\n",
       "      <td>Club Car Wash</td>\n",
       "      <td>330 S. Broadway Lawrence</td>\n",
       "      <td>0</td>\n",
       "    </tr>\n",
       "    <tr>\n",
       "      <th>6</th>\n",
       "      <td>Tommy�s Express Car Wash</td>\n",
       "      <td>360 Car Wash</td>\n",
       "      <td>0</td>\n",
       "    </tr>\n",
       "    <tr>\n",
       "      <th>7</th>\n",
       "      <td>Spotless Brands</td>\n",
       "      <td>4th u0026 Douglas</td>\n",
       "      <td>0</td>\n",
       "    </tr>\n",
       "    <tr>\n",
       "      <th>8</th>\n",
       "      <td>GO Car Wash</td>\n",
       "      <td>A-KEY CAR WASH</td>\n",
       "      <td>0</td>\n",
       "    </tr>\n",
       "    <tr>\n",
       "      <th>9</th>\n",
       "      <td>Mammoth Holdings LLC</td>\n",
       "      <td>AGGIELAND EXPRESS #2</td>\n",
       "      <td>0</td>\n",
       "    </tr>\n",
       "    <tr>\n",
       "      <th>10</th>\n",
       "      <td>WhiteWater Express Car Wash</td>\n",
       "      <td>AGGIELAND EXPRESS</td>\n",
       "      <td>0</td>\n",
       "    </tr>\n",
       "    <tr>\n",
       "      <th>11</th>\n",
       "      <td>ModWash</td>\n",
       "      <td>ALL STAR CAR WASH</td>\n",
       "      <td>0</td>\n",
       "    </tr>\n",
       "    <tr>\n",
       "      <th>12</th>\n",
       "      <td>Express Wash Concepts</td>\n",
       "      <td>ALOHA CAR WASH</td>\n",
       "      <td>0</td>\n",
       "    </tr>\n",
       "    <tr>\n",
       "      <th>13</th>\n",
       "      <td>Super Star Car Wash</td>\n",
       "      <td>AMERICAN CAR WASH</td>\n",
       "      <td>0</td>\n",
       "    </tr>\n",
       "    <tr>\n",
       "      <th>14</th>\n",
       "      <td>Autobell Car Wash</td>\n",
       "      <td>AUTO WASH EXPRESS</td>\n",
       "      <td>0</td>\n",
       "    </tr>\n",
       "    <tr>\n",
       "      <th>15</th>\n",
       "      <td>LUV Car Wash</td>\n",
       "      <td>Abercorn</td>\n",
       "      <td>0</td>\n",
       "    </tr>\n",
       "    <tr>\n",
       "      <th>16</th>\n",
       "      <td>Summit Wash Holdings</td>\n",
       "      <td>Adore Car Wash</td>\n",
       "      <td>0</td>\n",
       "    </tr>\n",
       "    <tr>\n",
       "      <th>17</th>\n",
       "      <td>True Blue Car Wash</td>\n",
       "      <td>Alabaster Wash and Wax</td>\n",
       "      <td>0</td>\n",
       "    </tr>\n",
       "    <tr>\n",
       "      <th>18</th>\n",
       "      <td>Splash Car Wash</td>\n",
       "      <td>Aladdin Car Wash</td>\n",
       "      <td>0</td>\n",
       "    </tr>\n",
       "    <tr>\n",
       "      <th>19</th>\n",
       "      <td>Caliber Car Wash</td>\n",
       "      <td>Alameda</td>\n",
       "      <td>0</td>\n",
       "    </tr>\n",
       "  </tbody>\n",
       "</table>\n",
       "</div>"
      ],
      "text/plain": [
       "                    Company Name                      Car wash name  matches\n",
       "0       Whistle Express Car Wash             #26 WEISS GUYS EXPRESS        0\n",
       "1                Mister Car Wash             #27 WEISS GUYS EXPRESS        0\n",
       "2            Tidal Wave Auto Spa             #28 WEISS GUYS EXPRESS        0\n",
       "3                  ZIPS Car Wash  *** StoneWash *** Car Care Center        0\n",
       "4   Quick Quack Express Car Wash            1287 DEER PARK CAR WASH        0\n",
       "5                  Club Car Wash           330 S. Broadway Lawrence        0\n",
       "6       Tommy�s Express Car Wash                       360 Car Wash        0\n",
       "7                Spotless Brands                  4th u0026 Douglas        0\n",
       "8                    GO Car Wash                     A-KEY CAR WASH        0\n",
       "9           Mammoth Holdings LLC               AGGIELAND EXPRESS #2        0\n",
       "10   WhiteWater Express Car Wash                  AGGIELAND EXPRESS        0\n",
       "11                       ModWash                  ALL STAR CAR WASH        0\n",
       "12         Express Wash Concepts                     ALOHA CAR WASH        0\n",
       "13           Super Star Car Wash                  AMERICAN CAR WASH        0\n",
       "14             Autobell Car Wash                  AUTO WASH EXPRESS        0\n",
       "15                  LUV Car Wash                           Abercorn        0\n",
       "16          Summit Wash Holdings                     Adore Car Wash        0\n",
       "17            True Blue Car Wash             Alabaster Wash and Wax        0\n",
       "18               Splash Car Wash                   Aladdin Car Wash        0\n",
       "19              Caliber Car Wash                            Alameda        0"
      ]
     },
     "execution_count": 11,
     "metadata": {},
     "output_type": "execute_result"
    }
   ],
   "source": [
    "from difflib import SequenceMatcher\n",
    "\n",
    "# 1) grab your master list of companies (col A)\n",
    "companies = df.iloc[:, 0].dropna().astype(str).unique().tolist()\n",
    "\n",
    "# 2) helper: true if any company ≥threshold\n",
    "def has_fuzzy_match(name, companies, threshold=0.90):\n",
    "    name = str(name)\n",
    "    for comp in companies:\n",
    "        if SequenceMatcher(None, name, comp).ratio() >= threshold:\n",
    "            return True\n",
    "    return False\n",
    "\n",
    "# 3) apply to col B, produce 0/1 in col C\n",
    "df['matches'] = df.iloc[:, 1].astype(str).apply(lambda x: int(has_fuzzy_match(x, companies)))\n",
    "\n",
    "# optionally check\n",
    "df.head(20)\n"
   ]
  },
  {
   "cell_type": "code",
   "execution_count": 13,
   "id": "759d356b",
   "metadata": {},
   "outputs": [],
   "source": [
    "df.to_csv(\"ownership_output.csv\", index=False)\n"
   ]
  },
  {
   "cell_type": "code",
   "execution_count": null,
   "id": "4f9f89eb",
   "metadata": {},
   "outputs": [],
   "source": []
  }
 ],
 "metadata": {
  "kernelspec": {
   "display_name": "dataCollection",
   "language": "python",
   "name": "python3"
  },
  "language_info": {
   "codemirror_mode": {
    "name": "ipython",
    "version": 3
   },
   "file_extension": ".py",
   "mimetype": "text/x-python",
   "name": "python",
   "nbconvert_exporter": "python",
   "pygments_lexer": "ipython3",
   "version": "3.12.9"
  }
 },
 "nbformat": 4,
 "nbformat_minor": 5
}
