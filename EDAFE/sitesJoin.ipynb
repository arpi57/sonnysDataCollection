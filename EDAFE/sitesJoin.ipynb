{
 "cells": [
  {
   "cell_type": "code",
   "execution_count": 2,
   "metadata": {},
   "outputs": [],
   "source": [
    "from IPython.display import clear_output\n",
    "# !pip3 install pandas openpyxl\n",
    "clear_output()"
   ]
  },
  {
   "cell_type": "code",
   "execution_count": 3,
   "metadata": {},
   "outputs": [],
   "source": [
    "import pandas as pd\n",
    "df = pd.read_excel(\"unscaled_clean_dataset.xlsx\" , engine='openpyxl')"
   ]
  },
  {
   "cell_type": "code",
   "execution_count": 4,
   "metadata": {},
   "outputs": [
    {
     "data": {
      "text/plain": [
       "(536, 4)"
      ]
     },
     "execution_count": 4,
     "metadata": {},
     "output_type": "execute_result"
    }
   ],
   "source": [
    "df.shape"
   ]
  },
  {
   "cell_type": "code",
   "execution_count": 5,
   "metadata": {},
   "outputs": [
    {
     "data": {
      "text/plain": [
       "Index(['full_site_address', 'Latitude', 'Longitude', 'cars_washed'], dtype='object')"
      ]
     },
     "execution_count": 5,
     "metadata": {},
     "output_type": "execute_result"
    }
   ],
   "source": [
    "df.columns"
   ]
  },
  {
   "cell_type": "code",
   "execution_count": 6,
   "metadata": {},
   "outputs": [
    {
     "data": {
      "application/vnd.microsoft.datawrangler.viewer.v0+json": {
       "columns": [
        {
         "name": "index",
         "rawType": "int64",
         "type": "integer"
        },
        {
         "name": "full_site_address",
         "rawType": "object",
         "type": "string"
        },
        {
         "name": "Latitude",
         "rawType": "float64",
         "type": "float"
        },
        {
         "name": "Longitude",
         "rawType": "float64",
         "type": "float"
        },
        {
         "name": "cars_washed",
         "rawType": "int64",
         "type": "integer"
        }
       ],
       "ref": "2608e6fd-ffb4-4e88-851c-89e635791823",
       "rows": [
        [
         "0",
         "*** StoneWash *** Car Care Center , 818 Paris Rd , Mayfield , KY , 42066",
         "36.7325312",
         "-88.6330322",
         "36381"
        ],
        [
         "1",
         "A-KEY CAR WASH , 2210 N Prince St , Clovis , NM , 88101",
         "34.4211501",
         "-103.1969689",
         "95400"
        ],
        [
         "2",
         "ALL STAR CAR WASH , 5835 N Market St , Shreveport , LA , 71107",
         "32.6003451",
         "-93.841208",
         "10751"
        ],
        [
         "3",
         "Abercorn , 10509 Abercorn St , Savannah , GA , 31419",
         "31.9858522",
         "-81.1330952",
         "12326"
        ],
        [
         "4",
         "Alabaster Wash and Wax , 916 1st St S , Alabaster , AL , 35007",
         "33.2331449",
         "-86.8116296",
         "32263"
        ]
       ],
       "shape": {
        "columns": 4,
        "rows": 5
       }
      },
      "text/html": [
       "<div>\n",
       "<style scoped>\n",
       "    .dataframe tbody tr th:only-of-type {\n",
       "        vertical-align: middle;\n",
       "    }\n",
       "\n",
       "    .dataframe tbody tr th {\n",
       "        vertical-align: top;\n",
       "    }\n",
       "\n",
       "    .dataframe thead th {\n",
       "        text-align: right;\n",
       "    }\n",
       "</style>\n",
       "<table border=\"1\" class=\"dataframe\">\n",
       "  <thead>\n",
       "    <tr style=\"text-align: right;\">\n",
       "      <th></th>\n",
       "      <th>full_site_address</th>\n",
       "      <th>Latitude</th>\n",
       "      <th>Longitude</th>\n",
       "      <th>cars_washed</th>\n",
       "    </tr>\n",
       "  </thead>\n",
       "  <tbody>\n",
       "    <tr>\n",
       "      <th>0</th>\n",
       "      <td>*** StoneWash *** Car Care Center , 818 Paris ...</td>\n",
       "      <td>36.732531</td>\n",
       "      <td>-88.633032</td>\n",
       "      <td>36381</td>\n",
       "    </tr>\n",
       "    <tr>\n",
       "      <th>1</th>\n",
       "      <td>A-KEY CAR WASH , 2210 N Prince St , Clovis , N...</td>\n",
       "      <td>34.421150</td>\n",
       "      <td>-103.196969</td>\n",
       "      <td>95400</td>\n",
       "    </tr>\n",
       "    <tr>\n",
       "      <th>2</th>\n",
       "      <td>ALL STAR CAR WASH , 5835 N Market St , Shrevep...</td>\n",
       "      <td>32.600345</td>\n",
       "      <td>-93.841208</td>\n",
       "      <td>10751</td>\n",
       "    </tr>\n",
       "    <tr>\n",
       "      <th>3</th>\n",
       "      <td>Abercorn , 10509 Abercorn St , Savannah , GA ,...</td>\n",
       "      <td>31.985852</td>\n",
       "      <td>-81.133095</td>\n",
       "      <td>12326</td>\n",
       "    </tr>\n",
       "    <tr>\n",
       "      <th>4</th>\n",
       "      <td>Alabaster Wash and Wax , 916 1st St S , Alabas...</td>\n",
       "      <td>33.233145</td>\n",
       "      <td>-86.811630</td>\n",
       "      <td>32263</td>\n",
       "    </tr>\n",
       "  </tbody>\n",
       "</table>\n",
       "</div>"
      ],
      "text/plain": [
       "                                   full_site_address   Latitude   Longitude  \\\n",
       "0  *** StoneWash *** Car Care Center , 818 Paris ...  36.732531  -88.633032   \n",
       "1  A-KEY CAR WASH , 2210 N Prince St , Clovis , N...  34.421150 -103.196969   \n",
       "2  ALL STAR CAR WASH , 5835 N Market St , Shrevep...  32.600345  -93.841208   \n",
       "3  Abercorn , 10509 Abercorn St , Savannah , GA ,...  31.985852  -81.133095   \n",
       "4  Alabaster Wash and Wax , 916 1st St S , Alabas...  33.233145  -86.811630   \n",
       "\n",
       "   cars_washed  \n",
       "0        36381  \n",
       "1        95400  \n",
       "2        10751  \n",
       "3        12326  \n",
       "4        32263  "
      ]
     },
     "execution_count": 6,
     "metadata": {},
     "output_type": "execute_result"
    }
   ],
   "source": [
    "df.head()"
   ]
  },
  {
   "cell_type": "code",
   "execution_count": 7,
   "metadata": {},
   "outputs": [
    {
     "data": {
      "application/vnd.microsoft.datawrangler.viewer.v0+json": {
       "columns": [
        {
         "name": "index",
         "rawType": "object",
         "type": "string"
        },
        {
         "name": "Latitude",
         "rawType": "float64",
         "type": "float"
        },
        {
         "name": "Longitude",
         "rawType": "float64",
         "type": "float"
        },
        {
         "name": "cars_washed",
         "rawType": "float64",
         "type": "float"
        }
       ],
       "ref": "572fc412-10e0-4f59-8cf8-163bb9bfc4bc",
       "rows": [
        [
         "count",
         "536.0",
         "536.0",
         "536.0"
        ],
        [
         "mean",
         "35.61473500496379",
         "-87.71409613351098",
         "66664.91604477612"
        ],
        [
         "std",
         "4.873289392581739",
         "10.463975262068976",
         "47259.53913486321"
        ],
        [
         "min",
         "26.2440893",
         "-147.8114342",
         "1059.0"
        ],
        [
         "25%",
         "32.269121775",
         "-92.65519975000001",
         "26026.5"
        ],
        [
         "50%",
         "35.2400302",
         "-84.44660445",
         "60765.0"
        ],
        [
         "75%",
         "38.699167824999996",
         "-81.51209745",
         "96964.5"
        ],
        [
         "max",
         "64.8515089",
         "-70.5506402",
         "242588.0"
        ]
       ],
       "shape": {
        "columns": 3,
        "rows": 8
       }
      },
      "text/html": [
       "<div>\n",
       "<style scoped>\n",
       "    .dataframe tbody tr th:only-of-type {\n",
       "        vertical-align: middle;\n",
       "    }\n",
       "\n",
       "    .dataframe tbody tr th {\n",
       "        vertical-align: top;\n",
       "    }\n",
       "\n",
       "    .dataframe thead th {\n",
       "        text-align: right;\n",
       "    }\n",
       "</style>\n",
       "<table border=\"1\" class=\"dataframe\">\n",
       "  <thead>\n",
       "    <tr style=\"text-align: right;\">\n",
       "      <th></th>\n",
       "      <th>Latitude</th>\n",
       "      <th>Longitude</th>\n",
       "      <th>cars_washed</th>\n",
       "    </tr>\n",
       "  </thead>\n",
       "  <tbody>\n",
       "    <tr>\n",
       "      <th>count</th>\n",
       "      <td>536.000000</td>\n",
       "      <td>536.000000</td>\n",
       "      <td>536.000000</td>\n",
       "    </tr>\n",
       "    <tr>\n",
       "      <th>mean</th>\n",
       "      <td>35.614735</td>\n",
       "      <td>-87.714096</td>\n",
       "      <td>66664.916045</td>\n",
       "    </tr>\n",
       "    <tr>\n",
       "      <th>std</th>\n",
       "      <td>4.873289</td>\n",
       "      <td>10.463975</td>\n",
       "      <td>47259.539135</td>\n",
       "    </tr>\n",
       "    <tr>\n",
       "      <th>min</th>\n",
       "      <td>26.244089</td>\n",
       "      <td>-147.811434</td>\n",
       "      <td>1059.000000</td>\n",
       "    </tr>\n",
       "    <tr>\n",
       "      <th>25%</th>\n",
       "      <td>32.269122</td>\n",
       "      <td>-92.655200</td>\n",
       "      <td>26026.500000</td>\n",
       "    </tr>\n",
       "    <tr>\n",
       "      <th>50%</th>\n",
       "      <td>35.240030</td>\n",
       "      <td>-84.446604</td>\n",
       "      <td>60765.000000</td>\n",
       "    </tr>\n",
       "    <tr>\n",
       "      <th>75%</th>\n",
       "      <td>38.699168</td>\n",
       "      <td>-81.512097</td>\n",
       "      <td>96964.500000</td>\n",
       "    </tr>\n",
       "    <tr>\n",
       "      <th>max</th>\n",
       "      <td>64.851509</td>\n",
       "      <td>-70.550640</td>\n",
       "      <td>242588.000000</td>\n",
       "    </tr>\n",
       "  </tbody>\n",
       "</table>\n",
       "</div>"
      ],
      "text/plain": [
       "         Latitude   Longitude    cars_washed\n",
       "count  536.000000  536.000000     536.000000\n",
       "mean    35.614735  -87.714096   66664.916045\n",
       "std      4.873289   10.463975   47259.539135\n",
       "min     26.244089 -147.811434    1059.000000\n",
       "25%     32.269122  -92.655200   26026.500000\n",
       "50%     35.240030  -84.446604   60765.000000\n",
       "75%     38.699168  -81.512097   96964.500000\n",
       "max     64.851509  -70.550640  242588.000000"
      ]
     },
     "execution_count": 7,
     "metadata": {},
     "output_type": "execute_result"
    }
   ],
   "source": [
    "df.describe()"
   ]
  },
  {
   "cell_type": "code",
   "execution_count": 10,
   "metadata": {},
   "outputs": [],
   "source": [
    "competitors_df = pd.read_csv(\"competitor_summary.csv\")"
   ]
  },
  {
   "cell_type": "code",
   "execution_count": 11,
   "metadata": {},
   "outputs": [
    {
     "data": {
      "text/plain": [
       "(1477, 20)"
      ]
     },
     "execution_count": 11,
     "metadata": {},
     "output_type": "execute_result"
    }
   ],
   "source": [
    "competitors_df.shape"
   ]
  },
  {
   "cell_type": "code",
   "execution_count": 12,
   "metadata": {},
   "outputs": [
    {
     "data": {
      "text/plain": [
       "Index(['original_address', 'competitors_count', 'competitor_1_distance_miles',\n",
       "       'competitor_1_google_rating', 'competitor_1_google_user_rating_count',\n",
       "       'competitor_2_distance_miles', 'competitor_2_google_rating',\n",
       "       'competitor_2_google_user_rating_count', 'competitor_3_distance_miles',\n",
       "       'competitor_3_google_rating', 'competitor_3_google_user_rating_count',\n",
       "       'competitor_4_distance_miles', 'competitor_4_google_rating',\n",
       "       'competitor_4_google_user_rating_count', 'competitor_5_distance_miles',\n",
       "       'competitor_5_google_rating', 'competitor_5_google_user_rating_count',\n",
       "       'competitor_6_distance_miles', 'competitor_6_google_rating',\n",
       "       'competitor_6_google_user_rating_count'],\n",
       "      dtype='object')"
      ]
     },
     "execution_count": 12,
     "metadata": {},
     "output_type": "execute_result"
    }
   ],
   "source": [
    "competitors_df.columns"
   ]
  },
  {
   "cell_type": "code",
   "execution_count": 16,
   "metadata": {},
   "outputs": [],
   "source": [
    "competitors_unique = competitors_df.drop_duplicates(\n",
    "    subset=['original_address']\n",
    ")"
   ]
  },
  {
   "cell_type": "code",
   "execution_count": 18,
   "metadata": {},
   "outputs": [
    {
     "data": {
      "text/plain": [
       "(1477, 20)"
      ]
     },
     "execution_count": 18,
     "metadata": {},
     "output_type": "execute_result"
    }
   ],
   "source": [
    "competitors_unique.shape"
   ]
  },
  {
   "cell_type": "code",
   "execution_count": 19,
   "metadata": {},
   "outputs": [],
   "source": [
    "# df = df.merge(\n",
    "#     competitors_unique,\n",
    "#     on=['full_site_address'],\n",
    "#     how='left'\n",
    "# )\n",
    "\n",
    "df = df.merge(\n",
    "    competitors_unique,\n",
    "    left_on='full_site_address',\n",
    "    right_on='original_address',\n",
    "    how='left'\n",
    ")\n"
   ]
  },
  {
   "cell_type": "code",
   "execution_count": 20,
   "metadata": {},
   "outputs": [
    {
     "data": {
      "application/vnd.microsoft.datawrangler.viewer.v0+json": {
       "columns": [
        {
         "name": "index",
         "rawType": "int64",
         "type": "integer"
        },
        {
         "name": "full_site_address",
         "rawType": "object",
         "type": "string"
        },
        {
         "name": "Latitude",
         "rawType": "float64",
         "type": "float"
        },
        {
         "name": "Longitude",
         "rawType": "float64",
         "type": "float"
        },
        {
         "name": "cars_washed",
         "rawType": "int64",
         "type": "integer"
        },
        {
         "name": "original_address",
         "rawType": "object",
         "type": "string"
        },
        {
         "name": "competitors_count",
         "rawType": "float64",
         "type": "float"
        },
        {
         "name": "competitor_1_distance_miles",
         "rawType": "float64",
         "type": "float"
        },
        {
         "name": "competitor_1_google_rating",
         "rawType": "float64",
         "type": "float"
        },
        {
         "name": "competitor_1_google_user_rating_count",
         "rawType": "float64",
         "type": "float"
        },
        {
         "name": "competitor_2_distance_miles",
         "rawType": "float64",
         "type": "float"
        },
        {
         "name": "competitor_2_google_rating",
         "rawType": "float64",
         "type": "float"
        },
        {
         "name": "competitor_2_google_user_rating_count",
         "rawType": "float64",
         "type": "float"
        },
        {
         "name": "competitor_3_distance_miles",
         "rawType": "float64",
         "type": "float"
        },
        {
         "name": "competitor_3_google_rating",
         "rawType": "float64",
         "type": "float"
        },
        {
         "name": "competitor_3_google_user_rating_count",
         "rawType": "float64",
         "type": "float"
        },
        {
         "name": "competitor_4_distance_miles",
         "rawType": "float64",
         "type": "float"
        },
        {
         "name": "competitor_4_google_rating",
         "rawType": "float64",
         "type": "float"
        },
        {
         "name": "competitor_4_google_user_rating_count",
         "rawType": "float64",
         "type": "float"
        },
        {
         "name": "competitor_5_distance_miles",
         "rawType": "float64",
         "type": "float"
        },
        {
         "name": "competitor_5_google_rating",
         "rawType": "float64",
         "type": "float"
        },
        {
         "name": "competitor_5_google_user_rating_count",
         "rawType": "float64",
         "type": "float"
        },
        {
         "name": "competitor_6_distance_miles",
         "rawType": "float64",
         "type": "float"
        },
        {
         "name": "competitor_6_google_rating",
         "rawType": "float64",
         "type": "float"
        },
        {
         "name": "competitor_6_google_user_rating_count",
         "rawType": "float64",
         "type": "float"
        }
       ],
       "ref": "6a4fd554-d94d-4826-ad73-4001a3d3ddaf",
       "rows": [
        [
         "0",
         "*** StoneWash *** Car Care Center , 818 Paris Rd , Mayfield , KY , 42066",
         "36.7325312",
         "-88.6330322",
         "36381",
         "*** StoneWash *** Car Care Center , 818 Paris Rd , Mayfield , KY , 42066",
         "1.0",
         "0.0295453543338253",
         "4.1",
         "51.0",
         null,
         null,
         null,
         null,
         null,
         null,
         null,
         null,
         null,
         null,
         null,
         null,
         null,
         null,
         null
        ],
        [
         "1",
         "A-KEY CAR WASH , 2210 N Prince St , Clovis , NM , 88101",
         "34.4211501",
         "-103.1969689",
         "95400",
         "A-KEY CAR WASH , 2210 N Prince St , Clovis , NM , 88101",
         "4.0",
         "0.513618496608942",
         "2.0",
         "1.0",
         "0.601399059552287",
         "4.0",
         "68.0",
         "0.618880728991891",
         "4.3",
         "1138.0",
         "0.795479492742875",
         null,
         null,
         null,
         null,
         null,
         null,
         null,
         null
        ],
        [
         "2",
         "ALL STAR CAR WASH , 5835 N Market St , Shreveport , LA , 71107",
         "32.6003451",
         "-93.841208",
         "10751",
         "ALL STAR CAR WASH , 5835 N Market St , Shreveport , LA , 71107",
         "0.0",
         null,
         null,
         null,
         null,
         null,
         null,
         null,
         null,
         null,
         null,
         null,
         null,
         null,
         null,
         null,
         null,
         null,
         null
        ],
        [
         "3",
         "Abercorn , 10509 Abercorn St , Savannah , GA , 31419",
         "31.9858522",
         "-81.1330952",
         "12326",
         "Abercorn , 10509 Abercorn St , Savannah , GA , 31419",
         "3.0",
         "0.451115723190687",
         "4.7",
         "185.0",
         "0.513823552710007",
         "4.3",
         "871.0",
         "0.87548435036642",
         "4.9",
         "779.0",
         null,
         null,
         null,
         null,
         null,
         null,
         null,
         null,
         null
        ],
        [
         "4",
         "Alabaster Wash and Wax , 916 1st St S , Alabaster , AL , 35007",
         "33.2331449",
         "-86.8116296",
         "32263",
         "Alabaster Wash and Wax , 916 1st St S , Alabaster , AL , 35007",
         "0.0",
         null,
         null,
         null,
         null,
         null,
         null,
         null,
         null,
         null,
         null,
         null,
         null,
         null,
         null,
         null,
         null,
         null,
         null
        ]
       ],
       "shape": {
        "columns": 24,
        "rows": 5
       }
      },
      "text/html": [
       "<div>\n",
       "<style scoped>\n",
       "    .dataframe tbody tr th:only-of-type {\n",
       "        vertical-align: middle;\n",
       "    }\n",
       "\n",
       "    .dataframe tbody tr th {\n",
       "        vertical-align: top;\n",
       "    }\n",
       "\n",
       "    .dataframe thead th {\n",
       "        text-align: right;\n",
       "    }\n",
       "</style>\n",
       "<table border=\"1\" class=\"dataframe\">\n",
       "  <thead>\n",
       "    <tr style=\"text-align: right;\">\n",
       "      <th></th>\n",
       "      <th>full_site_address</th>\n",
       "      <th>Latitude</th>\n",
       "      <th>Longitude</th>\n",
       "      <th>cars_washed</th>\n",
       "      <th>original_address</th>\n",
       "      <th>competitors_count</th>\n",
       "      <th>competitor_1_distance_miles</th>\n",
       "      <th>competitor_1_google_rating</th>\n",
       "      <th>competitor_1_google_user_rating_count</th>\n",
       "      <th>competitor_2_distance_miles</th>\n",
       "      <th>...</th>\n",
       "      <th>competitor_3_google_user_rating_count</th>\n",
       "      <th>competitor_4_distance_miles</th>\n",
       "      <th>competitor_4_google_rating</th>\n",
       "      <th>competitor_4_google_user_rating_count</th>\n",
       "      <th>competitor_5_distance_miles</th>\n",
       "      <th>competitor_5_google_rating</th>\n",
       "      <th>competitor_5_google_user_rating_count</th>\n",
       "      <th>competitor_6_distance_miles</th>\n",
       "      <th>competitor_6_google_rating</th>\n",
       "      <th>competitor_6_google_user_rating_count</th>\n",
       "    </tr>\n",
       "  </thead>\n",
       "  <tbody>\n",
       "    <tr>\n",
       "      <th>0</th>\n",
       "      <td>*** StoneWash *** Car Care Center , 818 Paris ...</td>\n",
       "      <td>36.732531</td>\n",
       "      <td>-88.633032</td>\n",
       "      <td>36381</td>\n",
       "      <td>*** StoneWash *** Car Care Center , 818 Paris ...</td>\n",
       "      <td>1.0</td>\n",
       "      <td>0.029545</td>\n",
       "      <td>4.1</td>\n",
       "      <td>51.0</td>\n",
       "      <td>NaN</td>\n",
       "      <td>...</td>\n",
       "      <td>NaN</td>\n",
       "      <td>NaN</td>\n",
       "      <td>NaN</td>\n",
       "      <td>NaN</td>\n",
       "      <td>NaN</td>\n",
       "      <td>NaN</td>\n",
       "      <td>NaN</td>\n",
       "      <td>NaN</td>\n",
       "      <td>NaN</td>\n",
       "      <td>NaN</td>\n",
       "    </tr>\n",
       "    <tr>\n",
       "      <th>1</th>\n",
       "      <td>A-KEY CAR WASH , 2210 N Prince St , Clovis , N...</td>\n",
       "      <td>34.421150</td>\n",
       "      <td>-103.196969</td>\n",
       "      <td>95400</td>\n",
       "      <td>A-KEY CAR WASH , 2210 N Prince St , Clovis , N...</td>\n",
       "      <td>4.0</td>\n",
       "      <td>0.513618</td>\n",
       "      <td>2.0</td>\n",
       "      <td>1.0</td>\n",
       "      <td>0.601399</td>\n",
       "      <td>...</td>\n",
       "      <td>1138.0</td>\n",
       "      <td>0.795479</td>\n",
       "      <td>NaN</td>\n",
       "      <td>NaN</td>\n",
       "      <td>NaN</td>\n",
       "      <td>NaN</td>\n",
       "      <td>NaN</td>\n",
       "      <td>NaN</td>\n",
       "      <td>NaN</td>\n",
       "      <td>NaN</td>\n",
       "    </tr>\n",
       "    <tr>\n",
       "      <th>2</th>\n",
       "      <td>ALL STAR CAR WASH , 5835 N Market St , Shrevep...</td>\n",
       "      <td>32.600345</td>\n",
       "      <td>-93.841208</td>\n",
       "      <td>10751</td>\n",
       "      <td>ALL STAR CAR WASH , 5835 N Market St , Shrevep...</td>\n",
       "      <td>0.0</td>\n",
       "      <td>NaN</td>\n",
       "      <td>NaN</td>\n",
       "      <td>NaN</td>\n",
       "      <td>NaN</td>\n",
       "      <td>...</td>\n",
       "      <td>NaN</td>\n",
       "      <td>NaN</td>\n",
       "      <td>NaN</td>\n",
       "      <td>NaN</td>\n",
       "      <td>NaN</td>\n",
       "      <td>NaN</td>\n",
       "      <td>NaN</td>\n",
       "      <td>NaN</td>\n",
       "      <td>NaN</td>\n",
       "      <td>NaN</td>\n",
       "    </tr>\n",
       "    <tr>\n",
       "      <th>3</th>\n",
       "      <td>Abercorn , 10509 Abercorn St , Savannah , GA ,...</td>\n",
       "      <td>31.985852</td>\n",
       "      <td>-81.133095</td>\n",
       "      <td>12326</td>\n",
       "      <td>Abercorn , 10509 Abercorn St , Savannah , GA ,...</td>\n",
       "      <td>3.0</td>\n",
       "      <td>0.451116</td>\n",
       "      <td>4.7</td>\n",
       "      <td>185.0</td>\n",
       "      <td>0.513824</td>\n",
       "      <td>...</td>\n",
       "      <td>779.0</td>\n",
       "      <td>NaN</td>\n",
       "      <td>NaN</td>\n",
       "      <td>NaN</td>\n",
       "      <td>NaN</td>\n",
       "      <td>NaN</td>\n",
       "      <td>NaN</td>\n",
       "      <td>NaN</td>\n",
       "      <td>NaN</td>\n",
       "      <td>NaN</td>\n",
       "    </tr>\n",
       "    <tr>\n",
       "      <th>4</th>\n",
       "      <td>Alabaster Wash and Wax , 916 1st St S , Alabas...</td>\n",
       "      <td>33.233145</td>\n",
       "      <td>-86.811630</td>\n",
       "      <td>32263</td>\n",
       "      <td>Alabaster Wash and Wax , 916 1st St S , Alabas...</td>\n",
       "      <td>0.0</td>\n",
       "      <td>NaN</td>\n",
       "      <td>NaN</td>\n",
       "      <td>NaN</td>\n",
       "      <td>NaN</td>\n",
       "      <td>...</td>\n",
       "      <td>NaN</td>\n",
       "      <td>NaN</td>\n",
       "      <td>NaN</td>\n",
       "      <td>NaN</td>\n",
       "      <td>NaN</td>\n",
       "      <td>NaN</td>\n",
       "      <td>NaN</td>\n",
       "      <td>NaN</td>\n",
       "      <td>NaN</td>\n",
       "      <td>NaN</td>\n",
       "    </tr>\n",
       "  </tbody>\n",
       "</table>\n",
       "<p>5 rows × 24 columns</p>\n",
       "</div>"
      ],
      "text/plain": [
       "                                   full_site_address   Latitude   Longitude  \\\n",
       "0  *** StoneWash *** Car Care Center , 818 Paris ...  36.732531  -88.633032   \n",
       "1  A-KEY CAR WASH , 2210 N Prince St , Clovis , N...  34.421150 -103.196969   \n",
       "2  ALL STAR CAR WASH , 5835 N Market St , Shrevep...  32.600345  -93.841208   \n",
       "3  Abercorn , 10509 Abercorn St , Savannah , GA ,...  31.985852  -81.133095   \n",
       "4  Alabaster Wash and Wax , 916 1st St S , Alabas...  33.233145  -86.811630   \n",
       "\n",
       "   cars_washed                                   original_address  \\\n",
       "0        36381  *** StoneWash *** Car Care Center , 818 Paris ...   \n",
       "1        95400  A-KEY CAR WASH , 2210 N Prince St , Clovis , N...   \n",
       "2        10751  ALL STAR CAR WASH , 5835 N Market St , Shrevep...   \n",
       "3        12326  Abercorn , 10509 Abercorn St , Savannah , GA ,...   \n",
       "4        32263  Alabaster Wash and Wax , 916 1st St S , Alabas...   \n",
       "\n",
       "   competitors_count  competitor_1_distance_miles  competitor_1_google_rating  \\\n",
       "0                1.0                     0.029545                         4.1   \n",
       "1                4.0                     0.513618                         2.0   \n",
       "2                0.0                          NaN                         NaN   \n",
       "3                3.0                     0.451116                         4.7   \n",
       "4                0.0                          NaN                         NaN   \n",
       "\n",
       "   competitor_1_google_user_rating_count  competitor_2_distance_miles  ...  \\\n",
       "0                                   51.0                          NaN  ...   \n",
       "1                                    1.0                     0.601399  ...   \n",
       "2                                    NaN                          NaN  ...   \n",
       "3                                  185.0                     0.513824  ...   \n",
       "4                                    NaN                          NaN  ...   \n",
       "\n",
       "   competitor_3_google_user_rating_count  competitor_4_distance_miles  \\\n",
       "0                                    NaN                          NaN   \n",
       "1                                 1138.0                     0.795479   \n",
       "2                                    NaN                          NaN   \n",
       "3                                  779.0                          NaN   \n",
       "4                                    NaN                          NaN   \n",
       "\n",
       "   competitor_4_google_rating  competitor_4_google_user_rating_count  \\\n",
       "0                         NaN                                    NaN   \n",
       "1                         NaN                                    NaN   \n",
       "2                         NaN                                    NaN   \n",
       "3                         NaN                                    NaN   \n",
       "4                         NaN                                    NaN   \n",
       "\n",
       "   competitor_5_distance_miles  competitor_5_google_rating  \\\n",
       "0                          NaN                         NaN   \n",
       "1                          NaN                         NaN   \n",
       "2                          NaN                         NaN   \n",
       "3                          NaN                         NaN   \n",
       "4                          NaN                         NaN   \n",
       "\n",
       "   competitor_5_google_user_rating_count  competitor_6_distance_miles  \\\n",
       "0                                    NaN                          NaN   \n",
       "1                                    NaN                          NaN   \n",
       "2                                    NaN                          NaN   \n",
       "3                                    NaN                          NaN   \n",
       "4                                    NaN                          NaN   \n",
       "\n",
       "   competitor_6_google_rating  competitor_6_google_user_rating_count  \n",
       "0                         NaN                                    NaN  \n",
       "1                         NaN                                    NaN  \n",
       "2                         NaN                                    NaN  \n",
       "3                         NaN                                    NaN  \n",
       "4                         NaN                                    NaN  \n",
       "\n",
       "[5 rows x 24 columns]"
      ]
     },
     "execution_count": 20,
     "metadata": {},
     "output_type": "execute_result"
    }
   ],
   "source": [
    "df.head()"
   ]
  },
  {
   "cell_type": "code",
   "execution_count": 21,
   "metadata": {},
   "outputs": [],
   "source": [
    "df.to_csv('merged_sites_with_competitors.csv', index=False)"
   ]
  },
  {
   "cell_type": "code",
   "execution_count": null,
   "metadata": {},
   "outputs": [],
   "source": []
  }
 ],
 "metadata": {
  "kernelspec": {
   "display_name": "dataCollection",
   "language": "python",
   "name": "python3"
  },
  "language_info": {
   "codemirror_mode": {
    "name": "ipython",
    "version": 3
   },
   "file_extension": ".py",
   "mimetype": "text/x-python",
   "name": "python",
   "nbconvert_exporter": "python",
   "pygments_lexer": "ipython3",
   "version": "3.12.9"
  },
  "orig_nbformat": 4
 },
 "nbformat": 4,
 "nbformat_minor": 2
}
